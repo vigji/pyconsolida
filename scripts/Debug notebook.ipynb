{
 "cells": [
  {
   "cell_type": "code",
   "execution_count": null,
   "id": "1ed9c6f5-87bf-44f2-828f-8f80652b0215",
   "metadata": {},
   "outputs": [],
   "source": [
    "from pyconsolida.budget_reader import *\n",
    "from pyconsolida.budget_reader import _get_valid_costo_rows, _read_raw_budget_sheet\n",
    "from pathlib import Path\n",
    "import pandas as pd\n",
    "import flammkuchen as fl\n",
    "import numpy as np"
   ]
  },
  {
   "cell_type": "markdown",
   "id": "267ae3e7-a516-49ed-88c7-d9efc3d6dba9",
   "metadata": {},
   "source": [
    "## Compute difference"
   ]
  },
  {
   "cell_type": "code",
   "execution_count": null,
   "id": "0c2d6e2f-901a-460e-9305-bb96a91477f7",
   "metadata": {},
   "outputs": [],
   "source": [
    "dec_al."
   ]
  },
  {
   "cell_type": "code",
   "execution_count": null,
   "id": "c7ae991c-061a-4dbf-bf9b-f5f9b16c36a4",
   "metadata": {
    "is_executing": true
   },
   "outputs": [],
   "source": [
    "data_dict = fl.load(\"/Users/vigji/Desktop/icop/exported_luigi_sum-fasi-False/230802_170104_python_data.h5\")\n",
    "numerical = [\"quantita\", \"imp. unit.\"]\n",
    "budgets_tot, budgets_dec = data_dict[\"budgets\"], data_dict[\"budgets_dec\"]\n",
    "\n",
    "budgets_tot = budgets_tot.set_index([\"commessa\", \"codice\", \"fase\"]).drop([\"costo u.\", \"imp.comp.\"], axis=1)\n",
    "budgets_dec = budgets_dec.set_index([\"commessa\", \"codice\", \"fase\"]).drop([\"costo u.\", \"imp.comp.\"], axis=1)\n",
    "\n",
    "dec_al, tot_al = budgets_dec.align(budgets_tot)\n",
    "dec_al.loc[:, numerical] = dec_al.loc[:, numerical].fillna(0)\n",
    "tot_al.loc[:, numerical] = tot_al.loc[:, numerical].fillna(0)\n",
    "\n",
    "\n",
    "print(\"Before dropping weird negatives: \", (tot_al[\"quantita\"] - dec_al[\"quantita\"]).sum())\n",
    "\n",
    "problematic = dec_al[(dec_al[\"quantita\"] > tot_al[\"quantita\"]) & (tot_al[\"quantita\"] > 0)].index"
   ]
  },
  {
   "cell_type": "code",
   "execution_count": null,
   "id": "337d61a2-5ad8-4d72-b45f-a64a6b8f9b64",
   "metadata": {},
   "outputs": [],
   "source": [
    "dec_al.loc[problematic, :]"
   ]
  },
  {
   "cell_type": "code",
   "execution_count": null,
   "id": "7aea954a-eaa0-4876-bc2b-8b5515178b18",
   "metadata": {},
   "outputs": [],
   "source": [
    "tot_al.loc[problematic, :]"
   ]
  },
  {
   "cell_type": "code",
   "execution_count": null,
   "id": "8bb1888d-0e0e-4c4c-8291-a48eca1b754b",
   "metadata": {},
   "outputs": [],
   "source": []
  },
  {
   "cell_type": "code",
   "execution_count": null,
   "id": "1ecadc23-d75c-40b6-bcaf-4f971f430988",
   "metadata": {},
   "outputs": [],
   "source": [
    "\n",
    "\n",
    "dec_al = dec_al.drop(problematic)\n",
    "tot_al = tot_al.drop(problematic)\n",
    "\n",
    "print(\"before dropping all negatives: \", (tot_al[\"quantita\"] - dec_al[\"quantita\"]).sum())\n",
    "negative_correct = dec_al[(dec_al[\"quantita\"] > tot_al[\"quantita\"])].index\n",
    "\n",
    "dec_al = dec_al.drop(negative_correct)\n",
    "tot_al = tot_al.drop(negative_correct)\n",
    "\n",
    "print(\"dropping all negatives: \", (tot_al[\"quantita\"] - dec_al[\"quantita\"]).sum())"
   ]
  },
  {
   "cell_type": "code",
   "execution_count": null,
   "id": "165657b8-ed1d-447b-b859-4aacdf5fd19a",
   "metadata": {},
   "outputs": [],
   "source": [
    "dec_al, tot_al = budgets_dec.align(budgets_tot)\n",
    "dec_al.loc[:, numerical] = dec_al.loc[:, numerical].fillna(0)\n",
    "tot_al.loc[:, numerical] = tot_al.loc[:, numerical].fillna(0)"
   ]
  },
  {
   "cell_type": "code",
   "execution_count": null,
   "id": "75327ba5-299d-4aaf-bb50-2a16d5fa2c1f",
   "metadata": {},
   "outputs": [],
   "source": [
    "problematic = dec_al[(dec_al[\"quantita\"] > tot_al[\"quantita\"]) & (tot_al[\"quantita\"] > 0)].index"
   ]
  },
  {
   "cell_type": "code",
   "execution_count": null,
   "id": "13c7e370-c0ce-4224-aca6-391f28b540be",
   "metadata": {},
   "outputs": [],
   "source": [
    "dec_al.loc[problematic, :]"
   ]
  },
  {
   "cell_type": "code",
   "execution_count": null,
   "id": "338990a9-cbf5-4f46-b5db-1c802a6027a6",
   "metadata": {},
   "outputs": [],
   "source": [
    "tot_al.loc[problematic, :]"
   ]
  },
  {
   "cell_type": "code",
   "execution_count": null,
   "id": "f5aeddd3-8566-4216-a597-c1efa5887c76",
   "metadata": {},
   "outputs": [],
   "source": []
  },
  {
   "cell_type": "code",
   "execution_count": null,
   "id": "5352d8fe-35e6-4e5d-bcd1-68f5f5dd6afa",
   "metadata": {},
   "outputs": [],
   "source": []
  },
  {
   "cell_type": "code",
   "execution_count": null,
   "id": "e3cb495f-8bf6-4d28-9c90-dd3bb516eb1b",
   "metadata": {},
   "outputs": [],
   "source": []
  },
  {
   "cell_type": "code",
   "execution_count": null,
   "id": "4f52af0e-88d9-4956-9684-a7e0eb588491",
   "metadata": {},
   "outputs": [],
   "source": []
  },
  {
   "cell_type": "code",
   "execution_count": null,
   "id": "8d48a76e-9a43-4f84-9fe0-03dc0b17a509",
   "metadata": {},
   "outputs": [],
   "source": []
  },
  {
   "cell_type": "code",
   "execution_count": null,
   "id": "bd7f9006-b9e8-4a67-9f53-b11ad5924b27",
   "metadata": {},
   "outputs": [],
   "source": []
  },
  {
   "cell_type": "code",
   "execution_count": null,
   "id": "e9076371-c515-4a4d-a3b7-7ef413f2b2d5",
   "metadata": {},
   "outputs": [],
   "source": []
  },
  {
   "cell_type": "code",
   "execution_count": null,
   "id": "d925f58b-295e-45f6-abc5-884417dd83e9",
   "metadata": {},
   "outputs": [],
   "source": []
  },
  {
   "cell_type": "code",
   "execution_count": null,
   "id": "66699de3-efb4-4aa0-a69a-4486d0b0eb3f",
   "metadata": {},
   "outputs": [],
   "source": []
  },
  {
   "cell_type": "code",
   "execution_count": null,
   "id": "369fc210-d757-4b97-87c8-ea74aa79a880",
   "metadata": {},
   "outputs": [],
   "source": [
    "dec_al, tot_al = budgets_dec.align(budgets_tot)\n",
    "all_diffs = dec_al[\"quantita\"] - tot_al[\"quantita\"]\n",
    "\n",
    "not_matching_2021 = set(budgets_dec.index) - set(budgets_tot.index)\n",
    "negative_diffs = set(all_diffs[all_diffs < 0].index)\n",
    "budgets_dec.drop(list(negative_diffs - not_matching_2021))\n",
    "\n",
    "dec_al, tot_al = budgets_dec.align(budgets_tot)\n",
    "numerical = [\"quantita\"]\n",
    "dec_al.loc[:, numerical] = dec_al.loc[:, numerical].fillna(0)\n",
    "tot_al.loc[:, numerical] = tot_al.loc[:, numerical].fillna(0)\n",
    "\n",
    "not_matching_2021 = set(budgets_dec.index) - set(budgets_tot.index)\n",
    "negative_diffs = set(all_diffs[all_diffs < 0].index)\n",
    "\n",
    "tot_al = tot_al.drop(list(negative_diffs))\n",
    "dec_al = dec_al.drop(list(negative_diffs))"
   ]
  },
  {
   "cell_type": "code",
   "execution_count": null,
   "id": "d7f4bcf7-251f-405e-9d10-34e6394b404d",
   "metadata": {},
   "outputs": [],
   "source": [
    "(tot_al[\"quantita\"] - dec_al[\"quantita\"]).sum()"
   ]
  },
  {
   "cell_type": "code",
   "execution_count": null,
   "id": "da36b985-d0e9-4ed7-af08-fde0d7310fa6",
   "metadata": {},
   "outputs": [],
   "source": [
    "(tot_al[\"quantita\"] - dec_al[\"quantita\"]).sum()"
   ]
  },
  {
   "cell_type": "code",
   "execution_count": null,
   "id": "fe14a27d-b920-49c1-9a07-d4e392fba983",
   "metadata": {},
   "outputs": [],
   "source": [
    "all_diffs = dec_al - "
   ]
  },
  {
   "cell_type": "code",
   "execution_count": null,
   "id": "8f87a4b5-3f4a-4e65-836c-fb8e0b69464b",
   "metadata": {},
   "outputs": [],
   "source": [
    "s = budgets_dec.loc[list(negative_diffs - not_matching_2021)]"
   ]
  },
  {
   "cell_type": "code",
   "execution_count": null,
   "id": "3c54022e-e28e-4591-9e06-d80c3f378040",
   "metadata": {},
   "outputs": [],
   "source": []
  },
  {
   "cell_type": "code",
   "execution_count": null,
   "id": "2dc24115-afe8-45a7-be0e-22349fa61306",
   "metadata": {},
   "outputs": [],
   "source": [
    "print(\"December 2021\")\n",
    "budgets_dec.drop(list(negative_diffs - not_matching_2021))"
   ]
  },
  {
   "cell_type": "code",
   "execution_count": null,
   "id": "c754a361-19c4-4b09-b075-ee511a0d32bd",
   "metadata": {},
   "outputs": [],
   "source": [
    "print(\"Sum 2022\")\n",
    "budgets_tot.loc[list(negative_diffs - not_matching_2021)].head()"
   ]
  },
  {
   "cell_type": "code",
   "execution_count": null,
   "id": "551cc1d7-2764-465d-a7e3-d42afe34a52c",
   "metadata": {},
   "outputs": [],
   "source": [
    "all_diffs = tot_al[numerical] - dec_al[numerical]"
   ]
  },
  {
   "cell_type": "code",
   "execution_count": null,
   "id": "7c986e8f-fc37-402d-a836-0e15a2f78dc2",
   "metadata": {},
   "outputs": [],
   "source": [
    "all_diffs[\"quantita\"].sum()"
   ]
  },
  {
   "cell_type": "code",
   "execution_count": null,
   "id": "8b576ea4-ce26-4355-a6c6-3781db0553f2",
   "metadata": {},
   "outputs": [],
   "source": [
    " 17930866.01"
   ]
  }
 ],
 "metadata": {
  "kernelspec": {
   "display_name": "Python [conda env:icop-env]",
   "language": "python",
   "name": "conda-env-icop-env-py"
  },
  "language_info": {
   "codemirror_mode": {
    "name": "ipython",
    "version": 3
   },
   "file_extension": ".py",
   "mimetype": "text/x-python",
   "name": "python",
   "nbconvert_exporter": "python",
   "pygments_lexer": "ipython3",
   "version": "3.10.12"
  }
 },
 "nbformat": 4,
 "nbformat_minor": 5
}
