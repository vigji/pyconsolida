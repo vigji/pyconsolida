{
 "cells": [
  {
   "cell_type": "code",
   "execution_count": 1,
   "id": "1ed9c6f5-87bf-44f2-828f-8f80652b0215",
   "metadata": {},
   "outputs": [],
   "source": [
    "from pyconsolida.budget_reader import *\n",
    "from pyconsolida.budget_reader import _get_valid_costo_rows, _read_raw_budget_sheet\n",
    "from pathlib import Path\n",
    "import pandas as pd\n",
    "import flammkuchen as fl\n",
    "import numpy as np"
   ]
  },
  {
   "cell_type": "markdown",
   "id": "267ae3e7-a516-49ed-88c7-d9efc3d6dba9",
   "metadata": {},
   "source": [
    "## Compute difference"
   ]
  },
  {
   "cell_type": "code",
   "execution_count": 14,
   "id": "0c2d6e2f-901a-460e-9305-bb96a91477f7",
   "metadata": {},
   "outputs": [],
   "source": [
    "dest_dir = Path(\"/Users/vigji/Desktop/icop/exported_luigi_sum-fasi-False\")\n",
    "\n",
    "tstamp = \"231115_030541\""
   ]
  },
  {
   "cell_type": "code",
   "execution_count": 15,
   "metadata": {},
   "outputs": [],
   "source": [
    "data_dict = fl.load(dest_dir / f\"{tstamp}_python_data.h5\")\n",
    "numerical = [\"quantita\", \"imp. unit.\"]\n",
    "budgets_tot, budgets_dec = data_dict[\"budgets\"], data_dict[\"budgets_dec\"]"
   ]
  },
  {
   "cell_type": "code",
   "execution_count": 16,
   "metadata": {},
   "outputs": [
    {
     "data": {
      "text/html": [
       "<div>\n",
       "<style scoped>\n",
       "    .dataframe tbody tr th:only-of-type {\n",
       "        vertical-align: middle;\n",
       "    }\n",
       "\n",
       "    .dataframe tbody tr th {\n",
       "        vertical-align: top;\n",
       "    }\n",
       "\n",
       "    .dataframe thead th {\n",
       "        text-align: right;\n",
       "    }\n",
       "</style>\n",
       "<table border=\"1\" class=\"dataframe\">\n",
       "  <thead>\n",
       "    <tr style=\"text-align: right;\">\n",
       "      <th></th>\n",
       "      <th>commessa</th>\n",
       "      <th>fase</th>\n",
       "      <th>codice</th>\n",
       "      <th>tipologia</th>\n",
       "      <th>voce</th>\n",
       "      <th>costo u.</th>\n",
       "      <th>u.m.</th>\n",
       "      <th>quantita</th>\n",
       "      <th>imp. unit.</th>\n",
       "      <th>imp.comp.</th>\n",
       "    </tr>\n",
       "  </thead>\n",
       "  <tbody>\n",
       "    <tr>\n",
       "      <th>0</th>\n",
       "      <td>1468</td>\n",
       "      <td>Spese Generali</td>\n",
       "      <td>620</td>\n",
       "      <td>Manodopera</td>\n",
       "      <td>Direttore microtunnel</td>\n",
       "      <td>500.0</td>\n",
       "      <td>g</td>\n",
       "      <td>10.5</td>\n",
       "      <td>51.980198</td>\n",
       "      <td>5250.0</td>\n",
       "    </tr>\n",
       "    <tr>\n",
       "      <th>1</th>\n",
       "      <td>1468</td>\n",
       "      <td>Spese Generali</td>\n",
       "      <td>621</td>\n",
       "      <td>Manodopera</td>\n",
       "      <td>Project Manager</td>\n",
       "      <td>350.0</td>\n",
       "      <td>g</td>\n",
       "      <td>104.0</td>\n",
       "      <td>360.39604</td>\n",
       "      <td>36400.0</td>\n",
       "    </tr>\n",
       "    <tr>\n",
       "      <th>2</th>\n",
       "      <td>1468</td>\n",
       "      <td>Spese Generali</td>\n",
       "      <td>622</td>\n",
       "      <td>Manodopera</td>\n",
       "      <td>Construction Manager</td>\n",
       "      <td>300.0</td>\n",
       "      <td>g</td>\n",
       "      <td>85.5</td>\n",
       "      <td>253.960396</td>\n",
       "      <td>25650.0</td>\n",
       "    </tr>\n",
       "    <tr>\n",
       "      <th>3</th>\n",
       "      <td>1468</td>\n",
       "      <td>Spese Generali</td>\n",
       "      <td>623</td>\n",
       "      <td>Manodopera</td>\n",
       "      <td>ASPP</td>\n",
       "      <td>300.0</td>\n",
       "      <td>g</td>\n",
       "      <td>46.0</td>\n",
       "      <td>136.633663</td>\n",
       "      <td>13800.0</td>\n",
       "    </tr>\n",
       "    <tr>\n",
       "      <th>4</th>\n",
       "      <td>1468</td>\n",
       "      <td>Spese Generali</td>\n",
       "      <td>625</td>\n",
       "      <td>Manodopera</td>\n",
       "      <td>Impiegato sede (Bergamasco)</td>\n",
       "      <td>200.0</td>\n",
       "      <td>g</td>\n",
       "      <td>18.5</td>\n",
       "      <td>36.633663</td>\n",
       "      <td>3700.0</td>\n",
       "    </tr>\n",
       "    <tr>\n",
       "      <th>...</th>\n",
       "      <td>...</td>\n",
       "      <td>...</td>\n",
       "      <td>...</td>\n",
       "      <td>...</td>\n",
       "      <td>...</td>\n",
       "      <td>...</td>\n",
       "      <td>...</td>\n",
       "      <td>...</td>\n",
       "      <td>...</td>\n",
       "      <td>...</td>\n",
       "    </tr>\n",
       "    <tr>\n",
       "      <th>16121</th>\n",
       "      <td>1504</td>\n",
       "      <td>Fase2</td>\n",
       "      <td>1106</td>\n",
       "      <td>Materiali di consumo</td>\n",
       "      <td>Gasolio</td>\n",
       "      <td>11.83</td>\n",
       "      <td>l</td>\n",
       "      <td>3996.0</td>\n",
       "      <td>40.390191</td>\n",
       "      <td>47272.68</td>\n",
       "    </tr>\n",
       "    <tr>\n",
       "      <th>16122</th>\n",
       "      <td>1504</td>\n",
       "      <td>Fase2</td>\n",
       "      <td>1108</td>\n",
       "      <td>Materiali di consumo</td>\n",
       "      <td>Materiale vario di consumo (elettrodi, ecc.)</td>\n",
       "      <td>745.0</td>\n",
       "      <td>cad</td>\n",
       "      <td>5.0</td>\n",
       "      <td>3.182673</td>\n",
       "      <td>3725.0</td>\n",
       "    </tr>\n",
       "    <tr>\n",
       "      <th>16123</th>\n",
       "      <td>1504</td>\n",
       "      <td>Fase2</td>\n",
       "      <td>1103</td>\n",
       "      <td>Materiali di consumo</td>\n",
       "      <td>Picchi utensili</td>\n",
       "      <td>195.5625</td>\n",
       "      <td>cad</td>\n",
       "      <td>5.0</td>\n",
       "      <td>0.835452</td>\n",
       "      <td>977.8125</td>\n",
       "    </tr>\n",
       "    <tr>\n",
       "      <th>16124</th>\n",
       "      <td>1504</td>\n",
       "      <td>Fase2</td>\n",
       "      <td>1116</td>\n",
       "      <td>Materiali di consumo</td>\n",
       "      <td>Tappi per CFA</td>\n",
       "      <td>52.15</td>\n",
       "      <td>cad</td>\n",
       "      <td>64.0</td>\n",
       "      <td>2.851675</td>\n",
       "      <td>3337.6</td>\n",
       "    </tr>\n",
       "    <tr>\n",
       "      <th>16125</th>\n",
       "      <td>1504</td>\n",
       "      <td>Fase2</td>\n",
       "      <td>1109</td>\n",
       "      <td>Materiali di consumo</td>\n",
       "      <td>Ossigeno e acetilene</td>\n",
       "      <td>186.25</td>\n",
       "      <td>gg</td>\n",
       "      <td>18.0</td>\n",
       "      <td>2.864405</td>\n",
       "      <td>3352.5</td>\n",
       "    </tr>\n",
       "  </tbody>\n",
       "</table>\n",
       "<p>16126 rows × 10 columns</p>\n",
       "</div>"
      ],
      "text/plain": [
       "      commessa            fase codice             tipologia  \\\n",
       "0         1468  Spese Generali    620            Manodopera   \n",
       "1         1468  Spese Generali    621            Manodopera   \n",
       "2         1468  Spese Generali    622            Manodopera   \n",
       "3         1468  Spese Generali    623            Manodopera   \n",
       "4         1468  Spese Generali    625            Manodopera   \n",
       "...        ...             ...    ...                   ...   \n",
       "16121     1504           Fase2   1106  Materiali di consumo   \n",
       "16122     1504           Fase2   1108  Materiali di consumo   \n",
       "16123     1504           Fase2   1103  Materiali di consumo   \n",
       "16124     1504           Fase2   1116  Materiali di consumo   \n",
       "16125     1504           Fase2   1109  Materiali di consumo   \n",
       "\n",
       "                                               voce  costo u. u.m. quantita  \\\n",
       "0                             Direttore microtunnel     500.0    g     10.5   \n",
       "1                                   Project Manager     350.0    g    104.0   \n",
       "2                              Construction Manager     300.0    g     85.5   \n",
       "3                                             ASPP      300.0    g     46.0   \n",
       "4                       Impiegato sede (Bergamasco)     200.0    g     18.5   \n",
       "...                                             ...       ...  ...      ...   \n",
       "16121                                       Gasolio     11.83    l   3996.0   \n",
       "16122  Materiale vario di consumo (elettrodi, ecc.)     745.0  cad      5.0   \n",
       "16123                               Picchi utensili  195.5625  cad      5.0   \n",
       "16124                                 Tappi per CFA     52.15  cad     64.0   \n",
       "16125                          Ossigeno e acetilene    186.25   gg     18.0   \n",
       "\n",
       "       imp. unit. imp.comp.  \n",
       "0       51.980198    5250.0  \n",
       "1       360.39604   36400.0  \n",
       "2      253.960396   25650.0  \n",
       "3      136.633663   13800.0  \n",
       "4       36.633663    3700.0  \n",
       "...           ...       ...  \n",
       "16121   40.390191  47272.68  \n",
       "16122    3.182673    3725.0  \n",
       "16123    0.835452  977.8125  \n",
       "16124    2.851675    3337.6  \n",
       "16125    2.864405    3352.5  \n",
       "\n",
       "[16126 rows x 10 columns]"
      ]
     },
     "execution_count": 16,
     "metadata": {},
     "output_type": "execute_result"
    }
   ],
   "source": [
    "budgets_tot"
   ]
  },
  {
   "cell_type": "code",
   "execution_count": null,
   "metadata": {},
   "outputs": [],
   "source": []
  },
  {
   "cell_type": "code",
   "execution_count": 6,
   "id": "c7ae991c-061a-4dbf-bf9b-f5f9b16c36a4",
   "metadata": {
    "is_executing": true
   },
   "outputs": [
    {
     "name": "stdout",
     "output_type": "stream",
     "text": [
      "Before dropping weird negatives:  14974437.870095383\n"
     ]
    }
   ],
   "source": [
    "data_dict = fl.load(dest_dir / f\"{tstamp}_python_data.h5\")\n",
    "numerical = [\"quantita\", \"imp. unit.\"]\n",
    "budgets_tot, budgets_dec = data_dict[\"budgets\"], data_dict[\"budgets_dec\"]\n",
    "\n",
    "budgets_tot = budgets_tot.set_index([\"commessa\", \"codice\", \"fase\"]).drop([\"costo u.\", \"imp.comp.\"], axis=1)\n",
    "budgets_dec = budgets_dec.set_index([\"commessa\", \"codice\", \"fase\"]).drop([\"costo u.\", \"imp.comp.\"], axis=1)\n",
    "\n",
    "dec_al, tot_al = budgets_dec.align(budgets_tot)\n",
    "dec_al.loc[:, numerical] = dec_al.loc[:, numerical].fillna(0)\n",
    "tot_al.loc[:, numerical] = tot_al.loc[:, numerical].fillna(0)\n",
    "\n",
    "deltas = tot_al[\"quantita\"] - dec_al[\"quantita\"]\n",
    "deltas.to_excel(dest_dir / f\"{tstamp}_deltas.xlsx\")\n",
    "deltas[deltas < 0].to_excel(dest_dir / f\"{tstamp}_negative-deltas.xlsx\")\n",
    "\n",
    "\n",
    "print(\"Before dropping weird negatives: \", (tot_al[\"quantita\"] - dec_al[\"quantita\"]).sum())\n",
    "\n",
    "problematic = dec_al[(dec_al[\"quantita\"] > tot_al[\"quantita\"]) & (tot_al[\"quantita\"] > 0)].index"
   ]
  },
  {
   "cell_type": "code",
   "execution_count": 9,
   "metadata": {},
   "outputs": [],
   "source": []
  },
  {
   "cell_type": "code",
   "execution_count": 12,
   "id": "337d61a2-5ad8-4d72-b45f-a64a6b8f9b64",
   "metadata": {},
   "outputs": [],
   "source": []
  },
  {
   "cell_type": "code",
   "execution_count": null,
   "id": "7aea954a-eaa0-4876-bc2b-8b5515178b18",
   "metadata": {},
   "outputs": [],
   "source": [
    "tot_al.loc[problematic, :]"
   ]
  },
  {
   "cell_type": "code",
   "execution_count": null,
   "id": "8bb1888d-0e0e-4c4c-8291-a48eca1b754b",
   "metadata": {},
   "outputs": [],
   "source": []
  },
  {
   "cell_type": "code",
   "execution_count": null,
   "id": "1ecadc23-d75c-40b6-bcaf-4f971f430988",
   "metadata": {},
   "outputs": [],
   "source": [
    "\n",
    "\n",
    "dec_al = dec_al.drop(problematic)\n",
    "tot_al = tot_al.drop(problematic)\n",
    "\n",
    "print(\"before dropping all negatives: \", (tot_al[\"quantita\"] - dec_al[\"quantita\"]).sum())\n",
    "negative_correct = dec_al[(dec_al[\"quantita\"] > tot_al[\"quantita\"])].index\n",
    "\n",
    "dec_al = dec_al.drop(negative_correct)\n",
    "tot_al = tot_al.drop(negative_correct)\n",
    "\n",
    "print(\"dropping all negatives: \", (tot_al[\"quantita\"] - dec_al[\"quantita\"]).sum())"
   ]
  },
  {
   "cell_type": "code",
   "execution_count": null,
   "id": "165657b8-ed1d-447b-b859-4aacdf5fd19a",
   "metadata": {},
   "outputs": [],
   "source": [
    "dec_al, tot_al = budgets_dec.align(budgets_tot)\n",
    "dec_al.loc[:, numerical] = dec_al.loc[:, numerical].fillna(0)\n",
    "tot_al.loc[:, numerical] = tot_al.loc[:, numerical].fillna(0)"
   ]
  },
  {
   "cell_type": "code",
   "execution_count": null,
   "id": "75327ba5-299d-4aaf-bb50-2a16d5fa2c1f",
   "metadata": {},
   "outputs": [],
   "source": [
    "problematic = dec_al[(dec_al[\"quantita\"] > tot_al[\"quantita\"]) & (tot_al[\"quantita\"] > 0)].index"
   ]
  },
  {
   "cell_type": "code",
   "execution_count": null,
   "id": "13c7e370-c0ce-4224-aca6-391f28b540be",
   "metadata": {},
   "outputs": [],
   "source": [
    "dec_al.loc[problematic, :]"
   ]
  },
  {
   "cell_type": "code",
   "execution_count": null,
   "id": "338990a9-cbf5-4f46-b5db-1c802a6027a6",
   "metadata": {},
   "outputs": [],
   "source": [
    "tot_al.loc[problematic, :]"
   ]
  },
  {
   "cell_type": "code",
   "execution_count": null,
   "id": "f5aeddd3-8566-4216-a597-c1efa5887c76",
   "metadata": {},
   "outputs": [],
   "source": []
  },
  {
   "cell_type": "code",
   "execution_count": null,
   "id": "5352d8fe-35e6-4e5d-bcd1-68f5f5dd6afa",
   "metadata": {},
   "outputs": [],
   "source": []
  },
  {
   "cell_type": "code",
   "execution_count": null,
   "id": "e3cb495f-8bf6-4d28-9c90-dd3bb516eb1b",
   "metadata": {},
   "outputs": [],
   "source": []
  },
  {
   "cell_type": "code",
   "execution_count": null,
   "id": "4f52af0e-88d9-4956-9684-a7e0eb588491",
   "metadata": {},
   "outputs": [],
   "source": []
  },
  {
   "cell_type": "code",
   "execution_count": null,
   "id": "8d48a76e-9a43-4f84-9fe0-03dc0b17a509",
   "metadata": {},
   "outputs": [],
   "source": []
  },
  {
   "cell_type": "code",
   "execution_count": null,
   "id": "bd7f9006-b9e8-4a67-9f53-b11ad5924b27",
   "metadata": {},
   "outputs": [],
   "source": []
  },
  {
   "cell_type": "code",
   "execution_count": null,
   "id": "e9076371-c515-4a4d-a3b7-7ef413f2b2d5",
   "metadata": {},
   "outputs": [],
   "source": []
  },
  {
   "cell_type": "code",
   "execution_count": null,
   "id": "d925f58b-295e-45f6-abc5-884417dd83e9",
   "metadata": {},
   "outputs": [],
   "source": []
  },
  {
   "cell_type": "code",
   "execution_count": null,
   "id": "66699de3-efb4-4aa0-a69a-4486d0b0eb3f",
   "metadata": {},
   "outputs": [],
   "source": []
  },
  {
   "cell_type": "code",
   "execution_count": null,
   "id": "369fc210-d757-4b97-87c8-ea74aa79a880",
   "metadata": {},
   "outputs": [],
   "source": [
    "dec_al, tot_al = budgets_dec.align(budgets_tot)\n",
    "all_diffs = dec_al[\"quantita\"] - tot_al[\"quantita\"]\n",
    "\n",
    "not_matching_2021 = set(budgets_dec.index) - set(budgets_tot.index)\n",
    "negative_diffs = set(all_diffs[all_diffs < 0].index)\n",
    "budgets_dec.drop(list(negative_diffs - not_matching_2021))\n",
    "\n",
    "dec_al, tot_al = budgets_dec.align(budgets_tot)\n",
    "numerical = [\"quantita\"]\n",
    "dec_al.loc[:, numerical] = dec_al.loc[:, numerical].fillna(0)\n",
    "tot_al.loc[:, numerical] = tot_al.loc[:, numerical].fillna(0)\n",
    "\n",
    "not_matching_2021 = set(budgets_dec.index) - set(budgets_tot.index)\n",
    "negative_diffs = set(all_diffs[all_diffs < 0].index)\n",
    "\n",
    "tot_al = tot_al.drop(list(negative_diffs))\n",
    "dec_al = dec_al.drop(list(negative_diffs))"
   ]
  },
  {
   "cell_type": "code",
   "execution_count": null,
   "id": "d7f4bcf7-251f-405e-9d10-34e6394b404d",
   "metadata": {},
   "outputs": [],
   "source": [
    "(tot_al[\"quantita\"] - dec_al[\"quantita\"]).sum()"
   ]
  },
  {
   "cell_type": "code",
   "execution_count": null,
   "id": "da36b985-d0e9-4ed7-af08-fde0d7310fa6",
   "metadata": {},
   "outputs": [],
   "source": [
    "(tot_al[\"quantita\"] - dec_al[\"quantita\"]).sum()"
   ]
  },
  {
   "cell_type": "code",
   "execution_count": null,
   "id": "fe14a27d-b920-49c1-9a07-d4e392fba983",
   "metadata": {},
   "outputs": [],
   "source": [
    "all_diffs = dec_al - "
   ]
  },
  {
   "cell_type": "code",
   "execution_count": null,
   "id": "8f87a4b5-3f4a-4e65-836c-fb8e0b69464b",
   "metadata": {},
   "outputs": [],
   "source": [
    "s = budgets_dec.loc[list(negative_diffs - not_matching_2021)]"
   ]
  },
  {
   "cell_type": "code",
   "execution_count": null,
   "id": "3c54022e-e28e-4591-9e06-d80c3f378040",
   "metadata": {},
   "outputs": [],
   "source": []
  },
  {
   "cell_type": "code",
   "execution_count": null,
   "id": "2dc24115-afe8-45a7-be0e-22349fa61306",
   "metadata": {},
   "outputs": [],
   "source": [
    "print(\"December 2021\")\n",
    "budgets_dec.drop(list(negative_diffs - not_matching_2021))"
   ]
  },
  {
   "cell_type": "code",
   "execution_count": null,
   "id": "c754a361-19c4-4b09-b075-ee511a0d32bd",
   "metadata": {},
   "outputs": [],
   "source": [
    "print(\"Sum 2022\")\n",
    "budgets_tot.loc[list(negative_diffs - not_matching_2021)].head()"
   ]
  },
  {
   "cell_type": "code",
   "execution_count": null,
   "id": "551cc1d7-2764-465d-a7e3-d42afe34a52c",
   "metadata": {},
   "outputs": [],
   "source": [
    "all_diffs = tot_al[numerical] - dec_al[numerical]"
   ]
  },
  {
   "cell_type": "code",
   "execution_count": null,
   "id": "7c986e8f-fc37-402d-a836-0e15a2f78dc2",
   "metadata": {},
   "outputs": [],
   "source": [
    "all_diffs[\"quantita\"].sum()"
   ]
  },
  {
   "cell_type": "code",
   "execution_count": null,
   "id": "8b576ea4-ce26-4355-a6c6-3781db0553f2",
   "metadata": {},
   "outputs": [],
   "source": [
    " 17930866.01"
   ]
  }
 ],
 "metadata": {
  "kernelspec": {
   "display_name": "icop-env",
   "language": "python",
   "name": "icop-env"
  },
  "language_info": {
   "codemirror_mode": {
    "name": "ipython",
    "version": 3
   },
   "file_extension": ".py",
   "mimetype": "text/x-python",
   "name": "python",
   "nbconvert_exporter": "python",
   "pygments_lexer": "ipython3",
   "version": "3.10.12"
  }
 },
 "nbformat": 4,
 "nbformat_minor": 5
}
