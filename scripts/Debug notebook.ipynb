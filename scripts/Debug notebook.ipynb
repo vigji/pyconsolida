{
 "cells": [
  {
   "cell_type": "code",
   "execution_count": 1,
   "id": "1ed9c6f5-87bf-44f2-828f-8f80652b0215",
   "metadata": {},
   "outputs": [],
   "source": [
    "from pyconsolida.budget_reader import *\n",
    "from pyconsolida.budget_reader import _get_valid_costo_rows, _read_raw_budget_sheet\n",
    "from pathlib import Path\n",
    "import pandas as pd\n",
    "import flammkuchen as fl\n",
    "import numpy as np\n",
    "\n",
    "FILENAME =  \"/Users/vigji/Desktop/icop/2021/21_12 Dicembre/9997/Analisi.xls\"\n",
    "\n",
    "FASE = \"Spese Generali\""
   ]
  },
  {
   "cell_type": "code",
   "execution_count": null,
   "id": "5c9f341a-4df1-4738-a263-dc0bdee0abaf",
   "metadata": {},
   "outputs": [],
   "source": [
    "raw_df = pd.read_excel(Path(FILENAME), sheet_name=None)\n",
    "for fase, df_fase in list(raw_df.items()):\n",
    "    if fase == FASE:\n",
    "        print(fase)\n",
    "        # costi_fase = _read_raw_budget_sheet(df_fase)\n",
    "        df = translate_df(df_fase)\n",
    "        # Trova l'inizio delle righe costi, e return se non ce ne sono:\n",
    "        df_costi = crop_costi(df)\n",
    "\n",
    "        # Aggiungi colonna con tipologie, trascinando in basso ogni nuovo header tipologia:\n",
    "        df_costi = add_tipologia_column(df_costi)\n",
    "\n",
    "        # Seleziona righe con un codice costo valido:\n",
    "        selection = _get_valid_costo_rows(df_costi)\n",
    "\n",
    "        voci_costo = df_costi.iloc[selection, :].copy()\n",
    "        fix_types(voci_costo)\n",
    "        voci_costo = voci_costo[voci_costo[HEADERS[\"quantita\"]] > 0]"
   ]
  },
  {
   "cell_type": "markdown",
   "id": "267ae3e7-a516-49ed-88c7-d9efc3d6dba9",
   "metadata": {},
   "source": [
    "## Compute difference"
   ]
  },
  {
   "cell_type": "code",
   "execution_count": 74,
   "id": "c7ae991c-061a-4dbf-bf9b-f5f9b16c36a4",
   "metadata": {},
   "outputs": [
    {
     "name": "stdout",
     "output_type": "stream",
     "text": [
      "Before dropping weird negatives:  9115614.854898594\n",
      "before dropping all negatives:  9158804.924472522\n",
      "dropping all negatives:  9183882.986377284\n"
     ]
    }
   ],
   "source": [
    "data_dict = fl.load(\"/Users/vigji/Desktop/icop/exported_luigi/230314_115521_python_data.h5\")\n",
    "\n",
    "budgets_tot, budgets_dec = data_dict[\"budgets\"], data_dict[\"budgets_dec\"]\n",
    "\n",
    "budgets_tot = budgets_tot.set_index([\"commessa\", \"codice\"]).drop([\"costo u.\", \"imp.comp.\"], axis=1)\n",
    "budgets_dec = budgets_dec.set_index([\"commessa\", \"codice\"]).drop([\"costo u.\", \"imp.comp.\"], axis=1)\n",
    "\n",
    "dec_al, tot_al = budgets_dec.align(budgets_tot)\n",
    "dec_al.loc[:, numerical] = dec_al.loc[:, numerical].fillna(0)\n",
    "tot_al.loc[:, numerical] = tot_al.loc[:, numerical].fillna(0)\n",
    "\n",
    "print(\"Before dropping weird negatives: \", (tot_al[\"quantita\"] - dec_al[\"quantita\"]).sum())\n",
    "\n",
    "problematic = dec_al[(dec_al[\"quantita\"] > tot_al[\"quantita\"]) & (tot_al[\"quantita\"] > 0)].index\n",
    "\n",
    "dec_al = dec_al.drop(problematic)\n",
    "tot_al = tot_al.drop(problematic)\n",
    "\n",
    "print(\"before dropping all negatives: \", (tot_al[\"quantita\"] - dec_al[\"quantita\"]).sum())\n",
    "negative_correct = dec_al[(dec_al[\"quantita\"] > tot_al[\"quantita\"])].index\n",
    "\n",
    "dec_al = dec_al.drop(negative_correct)\n",
    "tot_al = tot_al.drop(negative_correct)\n",
    "\n",
    "print(\"dropping all negatives: \", (tot_al[\"quantita\"] - dec_al[\"quantita\"]).sum())"
   ]
  },
  {
   "cell_type": "code",
   "execution_count": 71,
   "id": "165657b8-ed1d-447b-b859-4aacdf5fd19a",
   "metadata": {},
   "outputs": [
    {
     "data": {
      "text/plain": [
       "9158804.924472522"
      ]
     },
     "execution_count": 71,
     "metadata": {},
     "output_type": "execute_result"
    }
   ],
   "source": []
  },
  {
   "cell_type": "code",
   "execution_count": null,
   "id": "75327ba5-299d-4aaf-bb50-2a16d5fa2c1f",
   "metadata": {},
   "outputs": [],
   "source": []
  },
  {
   "cell_type": "code",
   "execution_count": 34,
   "id": "369fc210-d757-4b97-87c8-ea74aa79a880",
   "metadata": {},
   "outputs": [],
   "source": [
    "dec_al, tot_al = budgets_dec.align(budgets_tot)\n",
    "all_diffs = dec_al[\"quantita\"] - tot_al[\"quantita\"]\n",
    "\n",
    "not_matching_2021 = set(budgets_dec.index) - set(budgets_tot.index)\n",
    "negative_diffs = set(all_diffs[all_diffs < 0].index)\n",
    "budgets_dec.drop(list(negative_diffs - not_matching_2021))\n",
    "\n",
    "dec_al, tot_al = budgets_dec.align(budgets_tot)\n",
    "numerical = [\"quantita\"]\n",
    "dec_al.loc[:, numerical] = dec_al.loc[:, numerical].fillna(0)\n",
    "tot_al.loc[:, numerical] = tot_al.loc[:, numerical].fillna(0)\n",
    "\n",
    "not_matching_2021 = set(budgets_dec.index) - set(budgets_tot.index)\n",
    "negative_diffs = set(all_diffs[all_diffs < 0].index)\n",
    "\n",
    "tot_al = tot_al.drop(list(negative_diffs))\n",
    "dec_al = dec_al.drop(list(negative_diffs))"
   ]
  },
  {
   "cell_type": "code",
   "execution_count": 39,
   "id": "d7f4bcf7-251f-405e-9d10-34e6394b404d",
   "metadata": {},
   "outputs": [
    {
     "data": {
      "text/plain": [
       "7320548.651928511"
      ]
     },
     "execution_count": 39,
     "metadata": {},
     "output_type": "execute_result"
    }
   ],
   "source": [
    "(tot_al[\"quantita\"] - dec_al[\"quantita\"]).sum()"
   ]
  },
  {
   "cell_type": "code",
   "execution_count": 25,
   "id": "da36b985-d0e9-4ed7-af08-fde0d7310fa6",
   "metadata": {},
   "outputs": [
    {
     "data": {
      "text/plain": [
       "9115614.854898594"
      ]
     },
     "execution_count": 25,
     "metadata": {},
     "output_type": "execute_result"
    }
   ],
   "source": [
    "(tot_al[\"quantita\"] - dec_al[\"quantita\"]).sum()"
   ]
  },
  {
   "cell_type": "code",
   "execution_count": 158,
   "id": "fe14a27d-b920-49c1-9a07-d4e392fba983",
   "metadata": {},
   "outputs": [],
   "source": [
    "all_diffs = dec_al - "
   ]
  },
  {
   "cell_type": "code",
   "execution_count": 159,
   "id": "8f87a4b5-3f4a-4e65-836c-fb8e0b69464b",
   "metadata": {},
   "outputs": [],
   "source": [
    "s = budgets_dec.loc[list(negative_diffs - not_matching_2021)]"
   ]
  },
  {
   "cell_type": "code",
   "execution_count": 27,
   "id": "3c54022e-e28e-4591-9e06-d80c3f378040",
   "metadata": {},
   "outputs": [
    {
     "data": {
      "text/plain": [
       "1223"
      ]
     },
     "execution_count": 27,
     "metadata": {},
     "output_type": "execute_result"
    }
   ],
   "source": []
  },
  {
   "cell_type": "code",
   "execution_count": 173,
   "id": "2dc24115-afe8-45a7-be0e-22349fa61306",
   "metadata": {},
   "outputs": [
    {
     "name": "stdout",
     "output_type": "stream",
     "text": [
      "December 2021\n"
     ]
    },
    {
     "data": {
      "text/html": [
       "<div>\n",
       "<style scoped>\n",
       "    .dataframe tbody tr th:only-of-type {\n",
       "        vertical-align: middle;\n",
       "    }\n",
       "\n",
       "    .dataframe tbody tr th {\n",
       "        vertical-align: top;\n",
       "    }\n",
       "\n",
       "    .dataframe thead th {\n",
       "        text-align: right;\n",
       "    }\n",
       "</style>\n",
       "<table border=\"1\" class=\"dataframe\">\n",
       "  <thead>\n",
       "    <tr style=\"text-align: right;\">\n",
       "      <th></th>\n",
       "      <th></th>\n",
       "      <th>tipologia</th>\n",
       "      <th>voce</th>\n",
       "      <th>u.m.</th>\n",
       "      <th>quantita</th>\n",
       "      <th>costo u.</th>\n",
       "      <th>imp.comp.</th>\n",
       "    </tr>\n",
       "    <tr>\n",
       "      <th>commessa</th>\n",
       "      <th>codice</th>\n",
       "      <th></th>\n",
       "      <th></th>\n",
       "      <th></th>\n",
       "      <th></th>\n",
       "      <th></th>\n",
       "      <th></th>\n",
       "    </tr>\n",
       "  </thead>\n",
       "  <tbody>\n",
       "    <tr>\n",
       "      <th rowspan=\"5\" valign=\"top\">1432</th>\n",
       "      <th>6</th>\n",
       "      <td>Noli interni</td>\n",
       "      <td>Agitatore Lorenzetto L10000 (ICP)</td>\n",
       "      <td>g</td>\n",
       "      <td>16.000000</td>\n",
       "      <td>20.0</td>\n",
       "      <td>320.0</td>\n",
       "    </tr>\n",
       "    <tr>\n",
       "      <th>17</th>\n",
       "      <td>Noli interni</td>\n",
       "      <td>Autovettura (ICOP)</td>\n",
       "      <td>g</td>\n",
       "      <td>102.000000</td>\n",
       "      <td>40.0</td>\n",
       "      <td>4080.0</td>\n",
       "    </tr>\n",
       "    <tr>\n",
       "      <th>87</th>\n",
       "      <td>Noli interni</td>\n",
       "      <td>Camion Gru Scania (ICOP)</td>\n",
       "      <td>h</td>\n",
       "      <td>45.000000</td>\n",
       "      <td>60.0</td>\n",
       "      <td>2700.0</td>\n",
       "    </tr>\n",
       "    <tr>\n",
       "      <th>89</th>\n",
       "      <td>Noli interni</td>\n",
       "      <td>Camion Scania (ICOP)</td>\n",
       "      <td>h</td>\n",
       "      <td>22.000000</td>\n",
       "      <td>45.0</td>\n",
       "      <td>990.0</td>\n",
       "    </tr>\n",
       "    <tr>\n",
       "      <th>145</th>\n",
       "      <td>Noli interni</td>\n",
       "      <td>Cisterna Gasolio 3000 L (digas)</td>\n",
       "      <td>g</td>\n",
       "      <td>84.000000</td>\n",
       "      <td>1.0</td>\n",
       "      <td>84.0</td>\n",
       "    </tr>\n",
       "    <tr>\n",
       "      <th>...</th>\n",
       "      <th>...</th>\n",
       "      <td>...</td>\n",
       "      <td>...</td>\n",
       "      <td>...</td>\n",
       "      <td>...</td>\n",
       "      <td>...</td>\n",
       "      <td>...</td>\n",
       "    </tr>\n",
       "    <tr>\n",
       "      <th rowspan=\"5\" valign=\"top\">1449</th>\n",
       "      <th>919</th>\n",
       "      <td>Spese varie di gestione</td>\n",
       "      <td>Charges Mandataire + Gerant (0,5% )</td>\n",
       "      <td>Forfait</td>\n",
       "      <td>740.000000</td>\n",
       "      <td>1.0</td>\n",
       "      <td>0.0</td>\n",
       "    </tr>\n",
       "    <tr>\n",
       "      <th>920</th>\n",
       "      <td>Spese varie di gestione</td>\n",
       "      <td>Overhead ICOP (10%)</td>\n",
       "      <td>cad</td>\n",
       "      <td>14800.000000</td>\n",
       "      <td>1.0</td>\n",
       "      <td>0.0</td>\n",
       "    </tr>\n",
       "    <tr>\n",
       "      <th>933</th>\n",
       "      <td>Spese varie di gestione</td>\n",
       "      <td>Taxe CVAE</td>\n",
       "      <td>LS</td>\n",
       "      <td>0.002894</td>\n",
       "      <td>225000.0</td>\n",
       "      <td>0.0</td>\n",
       "    </tr>\n",
       "    <tr>\n",
       "      <th>934</th>\n",
       "      <td>Spese varie di gestione</td>\n",
       "      <td>Taxe CSS organic</td>\n",
       "      <td>LS</td>\n",
       "      <td>0.002631</td>\n",
       "      <td>90000.0</td>\n",
       "      <td>0.0</td>\n",
       "    </tr>\n",
       "    <tr>\n",
       "      <th>943</th>\n",
       "      <td>Spese varie di gestione</td>\n",
       "      <td>Provvisions penalitées et reparations</td>\n",
       "      <td>Forfait</td>\n",
       "      <td>0.500000</td>\n",
       "      <td>25000.0</td>\n",
       "      <td>0.0</td>\n",
       "    </tr>\n",
       "  </tbody>\n",
       "</table>\n",
       "<p>3522 rows × 6 columns</p>\n",
       "</div>"
      ],
      "text/plain": [
       "                               tipologia  \\\n",
       "commessa codice                            \n",
       "1432     6                  Noli interni   \n",
       "         17                 Noli interni   \n",
       "         87                 Noli interni   \n",
       "         89                 Noli interni   \n",
       "         145                Noli interni   \n",
       "...                                  ...   \n",
       "1449     919     Spese varie di gestione   \n",
       "         920     Spese varie di gestione   \n",
       "         933     Spese varie di gestione   \n",
       "         934     Spese varie di gestione   \n",
       "         943     Spese varie di gestione   \n",
       "\n",
       "                                                  voce     u.m.      quantita  \\\n",
       "commessa codice                                                                 \n",
       "1432     6           Agitatore Lorenzetto L10000 (ICP)        g     16.000000   \n",
       "         17                         Autovettura (ICOP)        g    102.000000   \n",
       "         87                   Camion Gru Scania (ICOP)        h     45.000000   \n",
       "         89                       Camion Scania (ICOP)        h     22.000000   \n",
       "         145           Cisterna Gasolio 3000 L (digas)        g     84.000000   \n",
       "...                                                ...      ...           ...   \n",
       "1449     919       Charges Mandataire + Gerant (0,5% )  Forfait    740.000000   \n",
       "         920                       Overhead ICOP (10%)      cad  14800.000000   \n",
       "         933                                 Taxe CVAE       LS      0.002894   \n",
       "         934                          Taxe CSS organic       LS      0.002631   \n",
       "         943     Provvisions penalitées et reparations  Forfait      0.500000   \n",
       "\n",
       "                 costo u.  imp.comp.  \n",
       "commessa codice                       \n",
       "1432     6           20.0      320.0  \n",
       "         17          40.0     4080.0  \n",
       "         87          60.0     2700.0  \n",
       "         89          45.0      990.0  \n",
       "         145          1.0       84.0  \n",
       "...                   ...        ...  \n",
       "1449     919          1.0        0.0  \n",
       "         920          1.0        0.0  \n",
       "         933     225000.0        0.0  \n",
       "         934      90000.0        0.0  \n",
       "         943      25000.0        0.0  \n",
       "\n",
       "[3522 rows x 6 columns]"
      ]
     },
     "execution_count": 173,
     "metadata": {},
     "output_type": "execute_result"
    }
   ],
   "source": [
    "print(\"December 2021\")\n",
    "budgets_dec.drop(list(negative_diffs - not_matching_2021))"
   ]
  },
  {
   "cell_type": "code",
   "execution_count": 165,
   "id": "c754a361-19c4-4b09-b075-ee511a0d32bd",
   "metadata": {},
   "outputs": [
    {
     "name": "stdout",
     "output_type": "stream",
     "text": [
      "Sum 2022\n"
     ]
    },
    {
     "data": {
      "text/html": [
       "<div>\n",
       "<style scoped>\n",
       "    .dataframe tbody tr th:only-of-type {\n",
       "        vertical-align: middle;\n",
       "    }\n",
       "\n",
       "    .dataframe tbody tr th {\n",
       "        vertical-align: top;\n",
       "    }\n",
       "\n",
       "    .dataframe thead th {\n",
       "        text-align: right;\n",
       "    }\n",
       "</style>\n",
       "<table border=\"1\" class=\"dataframe\">\n",
       "  <thead>\n",
       "    <tr style=\"text-align: right;\">\n",
       "      <th></th>\n",
       "      <th></th>\n",
       "      <th>tipologia</th>\n",
       "      <th>voce</th>\n",
       "      <th>u.m.</th>\n",
       "      <th>quantita</th>\n",
       "      <th>costo u.</th>\n",
       "      <th>imp.comp.</th>\n",
       "    </tr>\n",
       "    <tr>\n",
       "      <th>commessa</th>\n",
       "      <th>codice</th>\n",
       "      <th></th>\n",
       "      <th></th>\n",
       "      <th></th>\n",
       "      <th></th>\n",
       "      <th></th>\n",
       "      <th></th>\n",
       "    </tr>\n",
       "  </thead>\n",
       "  <tbody>\n",
       "    <tr>\n",
       "      <th>1408</th>\n",
       "      <th>240</th>\n",
       "      <td>Materiali d'opera</td>\n",
       "      <td>Materiale per preparazione testa palo</td>\n",
       "      <td>corpo</td>\n",
       "      <td>0.500000</td>\n",
       "      <td>1200.0</td>\n",
       "      <td>600.00000</td>\n",
       "    </tr>\n",
       "    <tr>\n",
       "      <th>1437</th>\n",
       "      <th>1118</th>\n",
       "      <td>Materiali di consumo</td>\n",
       "      <td>Legname</td>\n",
       "      <td>cad</td>\n",
       "      <td>6.686000</td>\n",
       "      <td>500.0</td>\n",
       "      <td>3343.00000</td>\n",
       "    </tr>\n",
       "    <tr>\n",
       "      <th>5014</th>\n",
       "      <th>900</th>\n",
       "      <td>Materiali d'opera</td>\n",
       "      <td>Pietre per sottofondo</td>\n",
       "      <td>ton</td>\n",
       "      <td>498.400000</td>\n",
       "      <td>15.0</td>\n",
       "      <td>7476.00000</td>\n",
       "    </tr>\n",
       "    <tr>\n",
       "      <th>1437</th>\n",
       "      <th>1301</th>\n",
       "      <td>Noli esterni - prestazioni</td>\n",
       "      <td>Trasporto con ribassato (LISCIO)</td>\n",
       "      <td>h</td>\n",
       "      <td>23.117588</td>\n",
       "      <td>85.0</td>\n",
       "      <td>1964.99498</td>\n",
       "    </tr>\n",
       "    <tr>\n",
       "      <th>5014</th>\n",
       "      <th>903</th>\n",
       "      <td>Materiali d'opera</td>\n",
       "      <td>Misto di fiume Se.Cla</td>\n",
       "      <td>ton</td>\n",
       "      <td>2887.000000</td>\n",
       "      <td>13.5</td>\n",
       "      <td>38974.50000</td>\n",
       "    </tr>\n",
       "  </tbody>\n",
       "</table>\n",
       "</div>"
      ],
      "text/plain": [
       "                                  tipologia  \\\n",
       "commessa codice                               \n",
       "1408     240              Materiali d'opera   \n",
       "1437     1118          Materiali di consumo   \n",
       "5014     900              Materiali d'opera   \n",
       "1437     1301    Noli esterni - prestazioni   \n",
       "5014     903              Materiali d'opera   \n",
       "\n",
       "                                                  voce   u.m.     quantita  \\\n",
       "commessa codice                                                              \n",
       "1408     240     Materiale per preparazione testa palo  corpo     0.500000   \n",
       "1437     1118                                  Legname    cad     6.686000   \n",
       "5014     900                     Pietre per sottofondo    ton   498.400000   \n",
       "1437     1301         Trasporto con ribassato (LISCIO)      h    23.117588   \n",
       "5014     903                     Misto di fiume Se.Cla    ton  2887.000000   \n",
       "\n",
       "                 costo u.    imp.comp.  \n",
       "commessa codice                         \n",
       "1408     240       1200.0    600.00000  \n",
       "1437     1118       500.0   3343.00000  \n",
       "5014     900         15.0   7476.00000  \n",
       "1437     1301        85.0   1964.99498  \n",
       "5014     903         13.5  38974.50000  "
      ]
     },
     "execution_count": 165,
     "metadata": {},
     "output_type": "execute_result"
    }
   ],
   "source": [
    "print(\"Sum 2022\")\n",
    "budgets_tot.loc[list(negative_diffs - not_matching_2021)].head()"
   ]
  },
  {
   "cell_type": "code",
   "execution_count": 112,
   "id": "551cc1d7-2764-465d-a7e3-d42afe34a52c",
   "metadata": {},
   "outputs": [],
   "source": [
    "all_diffs = tot_al[numerical] - dec_al[numerical]"
   ]
  },
  {
   "cell_type": "code",
   "execution_count": 117,
   "id": "7c986e8f-fc37-402d-a836-0e15a2f78dc2",
   "metadata": {},
   "outputs": [
    {
     "data": {
      "text/plain": [
       "9115614.854898594"
      ]
     },
     "execution_count": 117,
     "metadata": {},
     "output_type": "execute_result"
    }
   ],
   "source": [
    "all_diffs[\"quantita\"].sum()"
   ]
  },
  {
   "cell_type": "code",
   "execution_count": null,
   "id": "8b576ea4-ce26-4355-a6c6-3781db0553f2",
   "metadata": {},
   "outputs": [],
   "source": [
    " 17930866.01"
   ]
  }
 ],
 "metadata": {
  "kernelspec": {
   "display_name": "Python 3 (ipykernel)",
   "language": "python",
   "name": "python3"
  },
  "language_info": {
   "codemirror_mode": {
    "name": "ipython",
    "version": 3
   },
   "file_extension": ".py",
   "mimetype": "text/x-python",
   "name": "python",
   "nbconvert_exporter": "python",
   "pygments_lexer": "ipython3",
   "version": "3.9.13"
  }
 },
 "nbformat": 4,
 "nbformat_minor": 5
}
